{
  "nbformat": 4,
  "nbformat_minor": 0,
  "metadata": {
    "colab": {
      "name": "Fresh_or_rotten_fruits_CNN.ipynb",
      "provenance": [],
      "collapsed_sections": [],
      "toc_visible": true,
      "include_colab_link": true
    },
    "kernelspec": {
      "name": "python3",
      "display_name": "Python 3"
    },
    "accelerator": "GPU"
  },
  "cells": [
    {
      "cell_type": "markdown",
      "metadata": {
        "id": "view-in-github",
        "colab_type": "text"
      },
      "source": [
        "<a href=\"https://colab.research.google.com/github/NEBTICS/Fresh_Or_Rotten_fruits_using_CNN/blob/master/Fresh_or_rotten_fruits_CNN.ipynb\" target=\"_parent\"><img src=\"https://colab.research.google.com/assets/colab-badge.svg\" alt=\"Open In Colab\"/></a>"
      ]
    },
    {
      "cell_type": "markdown",
      "metadata": {
        "id": "4IgskTcWI4gi",
        "colab_type": "text"
      },
      "source": [
        "##code to prevent colab from disconecting !!!\n",
        "\n",
        "\n",
        "---\n",
        "\n"
      ]
    },
    {
      "cell_type": "code",
      "metadata": {
        "id": "B-7QgBC1gj3i",
        "colab_type": "code",
        "colab": {}
      },
      "source": [
        "#Use only when the training takes long time\n",
        "\"\"\"\n",
        "\n",
        "function ConnectButton(){\n",
        "    console.log(\"Connect pushed\"); \n",
        "    document.querySelector(\"#top-toolbar > colab-connect-button\").shadowRoot.querySelector(\"#connect\").click() \n",
        "}\n",
        "setInterval(ConnectButton,60000);\n",
        "\n",
        "\n",
        "Set a javascript interval to click on the connect button every 60 seconds.\n",
        "Open developer-settings (in your web-browser) with Ctrl+Shift+I then click on console tab and type this on \n",
        "the console prompt. (for mac press Option+Command+I)\n",
        "                                                           -Stack overflow\n",
        "\"\"\"\n"
      ],
      "execution_count": null,
      "outputs": []
    },
    {
      "cell_type": "markdown",
      "metadata": {
        "id": "sbrUtOoCDtp4",
        "colab_type": "text"
      },
      "source": [
        "## Instaling kiggle and downloading data set directly from kiggle via colab\n",
        " #skip to importing libraries if you already have a dataset or working with jupyter/spyder ide\n"
      ]
    },
    {
      "cell_type": "code",
      "metadata": {
        "id": "XFKw0mCCUTp2",
        "colab_type": "code",
        "colab": {}
      },
      "source": [
        "! pip install -q kaggle"
      ],
      "execution_count": null,
      "outputs": []
    },
    {
      "cell_type": "markdown",
      "metadata": {
        "id": "6VuLL9K-EZww",
        "colab_type": "text"
      },
      "source": [
        "Download the kaggle.json file from the kaggle website\n",
        "* Steps\n",
        "1. Create a account at kaggle\n",
        "2. go to --- My Account-----Scroll down-- you will     find  a option ----create a new api--click\n",
        "3. jsone file will be downloaded file "
      ]
    },
    {
      "cell_type": "code",
      "metadata": {
        "id": "vzvbQV21TY4P",
        "colab_type": "code",
        "colab": {
          "resources": {
            "http://localhost:8080/nbextensions/google.colab/files.js": {
              "data": "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",
              "ok": true,
              "headers": [
                [
                  "content-type",
                  "application/javascript"
                ]
              ],
              "status": 200,
              "status_text": ""
            }
          },
          "base_uri": "https://localhost:8080/",
          "height": 89
        },
        "outputId": "d0f53c85-a591-403e-fc1e-4c54e5541cbf"
      },
      "source": [
        "from google.colab import files\n",
        "files.upload()#upload from pc to colab and copy the path"
      ],
      "execution_count": null,
      "outputs": [
        {
          "output_type": "display_data",
          "data": {
            "text/html": [
              "\n",
              "     <input type=\"file\" id=\"files-afeb6cfa-344e-4f6f-aef2-87e959680200\" name=\"files[]\" multiple disabled\n",
              "        style=\"border:none\" />\n",
              "     <output id=\"result-afeb6cfa-344e-4f6f-aef2-87e959680200\">\n",
              "      Upload widget is only available when the cell has been executed in the\n",
              "      current browser session. Please rerun this cell to enable.\n",
              "      </output>\n",
              "      <script src=\"/nbextensions/google.colab/files.js\"></script> "
            ],
            "text/plain": [
              "<IPython.core.display.HTML object>"
            ]
          },
          "metadata": {
            "tags": []
          }
        },
        {
          "output_type": "stream",
          "text": [
            "Saving kaggle.json to kaggle.json\n"
          ],
          "name": "stdout"
        },
        {
          "output_type": "execute_result",
          "data": {
            "text/plain": [
              "{'kaggle.json': b'{\"username\":\"smithbarbose\",\"key\":\"efd499fa06f6c2554fefc5408c46cac1\"}'}"
            ]
          },
          "metadata": {
            "tags": []
          },
          "execution_count": 2
        }
      ]
    },
    {
      "cell_type": "markdown",
      "metadata": {
        "id": "ch-5mGAyFXSQ",
        "colab_type": "text"
      },
      "source": [
        "* making directoy and copying the json file to it"
      ]
    },
    {
      "cell_type": "code",
      "metadata": {
        "id": "zCQl8uHWTvw8",
        "colab_type": "code",
        "colab": {}
      },
      "source": [
        "!mkdir ~/.kaggle #make directory\n",
        "!cp kaggle.json ~/.kaggle #copy to the directory"
      ],
      "execution_count": null,
      "outputs": []
    },
    {
      "cell_type": "code",
      "metadata": {
        "id": "yx6_ZGZaUZuo",
        "colab_type": "code",
        "colab": {}
      },
      "source": [
        " ! chmod 600 ~/.kaggle/kaggle.json #changing the permission"
      ],
      "execution_count": null,
      "outputs": []
    },
    {
      "cell_type": "markdown",
      "metadata": {
        "id": "ftB9MsfdGTKG",
        "colab_type": "text"
      },
      "source": [
        "Downloading the data set"
      ]
    },
    {
      "cell_type": "code",
      "metadata": {
        "id": "cP4m9hqiUjhi",
        "colab_type": "code",
        "colab": {
          "base_uri": "https://localhost:8080/",
          "height": 68
        },
        "outputId": "59777925-f6d4-4b89-909f-032689c4d017"
      },
      "source": [
        "  ! kaggle datasets download -d sriramr/fruits-fresh-and-rotten-for-classification "
      ],
      "execution_count": null,
      "outputs": [
        {
          "output_type": "stream",
          "text": [
            "Downloading fruits-fresh-and-rotten-for-classification.zip to /content\n",
            "100% 3.58G/3.58G [01:18<00:00, 65.5MB/s]\n",
            "100% 3.58G/3.58G [01:18<00:00, 48.9MB/s]\n"
          ],
          "name": "stdout"
        }
      ]
    },
    {
      "cell_type": "markdown",
      "metadata": {
        "id": "0V21Rv-qGXC-",
        "colab_type": "text"
      },
      "source": [
        "Unziping the data set"
      ]
    },
    {
      "cell_type": "code",
      "metadata": {
        "id": "MjVINVinVBH_",
        "colab_type": "code",
        "colab": {}
      },
      "source": [
        "!unzip  fruits-fresh-and-rotten-for-classification.zip"
      ],
      "execution_count": null,
      "outputs": []
    },
    {
      "cell_type": "markdown",
      "metadata": {
        "id": "NB_AuDaS_EE7",
        "colab_type": "text"
      },
      "source": [
        "## **Fresh_or_rotten_fruit_clasiffication** \n",
        " #importing libraries"
      ]
    },
    {
      "cell_type": "code",
      "metadata": {
        "id": "dhZABBDAVTYv",
        "colab_type": "code",
        "colab": {}
      },
      "source": [
        "import tensorflow as tf\n",
        "import keras \n",
        "import matplotlib.pyplot as plt\n",
        "import numpy as np\n",
        "from keras.preprocessing.image import ImageDataGenerator"
      ],
      "execution_count": null,
      "outputs": []
    },
    {
      "cell_type": "markdown",
      "metadata": {
        "id": "E8ERMquRYaUU",
        "colab_type": "text"
      },
      "source": [
        "Arranging the images #reshaping the flow"
      ]
    },
    {
      "cell_type": "code",
      "metadata": {
        "id": "r4SiO4hR_mDD",
        "colab_type": "code",
        "colab": {}
      },
      "source": [
        "#First we need to create the Image Augmantation\n",
        "traning_datagen=ImageDataGenerator(rescale=1./255,shear_range=0.2,zoom_range=0.2,horizontal_flip='True')\n",
        "test_datagen=ImageDataGenerator(rescale=1./255)"
      ],
      "execution_count": null,
      "outputs": []
    },
    {
      "cell_type": "markdown",
      "metadata": {
        "id": "ktIvOCUsG9Ea",
        "colab_type": "text"
      },
      "source": [
        " * Importing the data set \n",
        " * and spliting into training and test "
      ]
    },
    {
      "cell_type": "code",
      "metadata": {
        "id": "gUqT5NN9A2s3",
        "colab_type": "code",
        "colab": {
          "base_uri": "https://localhost:8080/",
          "height": 51
        },
        "outputId": "08566e8d-49a1-417b-84a0-786efce52fe9"
      },
      "source": [
        "#creating the test & train sets\n",
        "traning_set=traning_datagen.flow_from_directory('/content/dataset/train',batch_size=60,target_size=(64,64),class_mode='categorical')\n",
        "test_set=test_datagen.flow_from_directory('/content/dataset/train',batch_size=60,target_size=(64,64),class_mode='categorical')"
      ],
      "execution_count": null,
      "outputs": [
        {
          "output_type": "stream",
          "text": [
            "Found 10901 images belonging to 6 classes.\n",
            "Found 10901 images belonging to 6 classes.\n"
          ],
          "name": "stdout"
        }
      ]
    },
    {
      "cell_type": "markdown",
      "metadata": {
        "id": "EQockTujHH8_",
        "colab_type": "text"
      },
      "source": [
        "* Building the convolution model "
      ]
    },
    {
      "cell_type": "code",
      "metadata": {
        "id": "TUfhkPRyQrvA",
        "colab_type": "code",
        "colab": {
          "base_uri": "https://localhost:8080/",
          "height": 527
        },
        "outputId": "f5b3e5cf-4d1b-4584-ce7e-3b72287e78ae"
      },
      "source": [
        "model=tf.keras.Sequential()\n",
        "#first layer\n",
        "model.add(tf.keras.layers.Conv2D(filters=32,kernel_size=(3,3),input_shape=[64,64,3],activation='relu'))\n",
        "model.add(tf.keras.layers.Conv2D(filters=32,kernel_size=(3,3),activation='relu'))\n",
        "model.add(tf.keras.layers.MaxPool2D(pool_size=(2,2),strides=2))\n",
        "#second\n",
        "model.add(tf.keras.layers.Conv2D(filters=64,kernel_size=(3,3),activation='relu'))\n",
        "model.add(tf.keras.layers.Conv2D(filters=64,kernel_size=(3,3),activation='relu'))\n",
        "model.add(tf.keras.layers.MaxPool2D(pool_size=(2,2),strides=2))\n",
        "#flatten\n",
        "model.add(tf.keras.layers.Flatten())\n",
        "#adding the nural net\n",
        "model.add(tf.keras.layers.Dropout(0.5))\n",
        "model.add(tf.keras.layers.Dense(units=1024,activation='relu'))\n",
        "model.add(tf.keras.layers.Dense(units=521,activation='relu'))\n",
        "model.add(tf.keras.layers.Dense(units=6,activation='softmax'))\n",
        "model.summary()"
      ],
      "execution_count": null,
      "outputs": [
        {
          "output_type": "stream",
          "text": [
            "Model: \"sequential\"\n",
            "_________________________________________________________________\n",
            "Layer (type)                 Output Shape              Param #   \n",
            "=================================================================\n",
            "conv2d (Conv2D)              (None, 62, 62, 32)        896       \n",
            "_________________________________________________________________\n",
            "conv2d_1 (Conv2D)            (None, 60, 60, 32)        9248      \n",
            "_________________________________________________________________\n",
            "max_pooling2d (MaxPooling2D) (None, 30, 30, 32)        0         \n",
            "_________________________________________________________________\n",
            "conv2d_2 (Conv2D)            (None, 28, 28, 64)        18496     \n",
            "_________________________________________________________________\n",
            "conv2d_3 (Conv2D)            (None, 26, 26, 64)        36928     \n",
            "_________________________________________________________________\n",
            "max_pooling2d_1 (MaxPooling2 (None, 13, 13, 64)        0         \n",
            "_________________________________________________________________\n",
            "flatten (Flatten)            (None, 10816)             0         \n",
            "_________________________________________________________________\n",
            "dropout (Dropout)            (None, 10816)             0         \n",
            "_________________________________________________________________\n",
            "dense (Dense)                (None, 1024)              11076608  \n",
            "_________________________________________________________________\n",
            "dense_1 (Dense)              (None, 521)               534025    \n",
            "_________________________________________________________________\n",
            "dense_2 (Dense)              (None, 6)                 3132      \n",
            "=================================================================\n",
            "Total params: 11,679,333\n",
            "Trainable params: 11,679,333\n",
            "Non-trainable params: 0\n",
            "_________________________________________________________________\n"
          ],
          "name": "stdout"
        }
      ]
    },
    {
      "cell_type": "code",
      "metadata": {
        "id": "iLSnN7wnBnEl",
        "colab_type": "code",
        "colab": {
          "base_uri": "https://localhost:8080/",
          "height": 377
        },
        "outputId": "60877ca5-08eb-4c92-c9a6-40eee36600a2"
      },
      "source": [
        "#compling\n",
        "model.compile(optimizer='adam',loss='binary_crossentropy',metrics=['accuracy'])\n",
        "history=model.fit(x=traning_set,validation_data=test_set,epochs=10)\n"
      ],
      "execution_count": null,
      "outputs": [
        {
          "output_type": "stream",
          "text": [
            "Epoch 1/10\n",
            "182/182 [==============================] - 93s 511ms/step - loss: 0.2070 - accuracy: 0.7153 - val_loss: 0.1179 - val_accuracy: 0.8584\n",
            "Epoch 2/10\n",
            "182/182 [==============================] - 93s 514ms/step - loss: 0.1105 - accuracy: 0.8685 - val_loss: 0.1141 - val_accuracy: 0.8926\n",
            "Epoch 3/10\n",
            "182/182 [==============================] - 92s 508ms/step - loss: 0.0862 - accuracy: 0.9029 - val_loss: 0.1062 - val_accuracy: 0.8768\n",
            "Epoch 4/10\n",
            "182/182 [==============================] - 92s 507ms/step - loss: 0.0721 - accuracy: 0.9151 - val_loss: 0.0477 - val_accuracy: 0.9483\n",
            "Epoch 5/10\n",
            "182/182 [==============================] - 93s 511ms/step - loss: 0.0596 - accuracy: 0.9334 - val_loss: 0.0352 - val_accuracy: 0.9588\n",
            "Epoch 6/10\n",
            "182/182 [==============================] - 92s 507ms/step - loss: 0.0505 - accuracy: 0.9436 - val_loss: 0.0382 - val_accuracy: 0.9613\n",
            "Epoch 7/10\n",
            "182/182 [==============================] - 92s 507ms/step - loss: 0.0434 - accuracy: 0.9528 - val_loss: 0.0569 - val_accuracy: 0.9428\n",
            "Epoch 8/10\n",
            "182/182 [==============================] - 93s 509ms/step - loss: 0.0489 - accuracy: 0.9478 - val_loss: 0.0314 - val_accuracy: 0.9719\n",
            "Epoch 9/10\n",
            "182/182 [==============================] - 92s 504ms/step - loss: 0.0400 - accuracy: 0.9572 - val_loss: 0.0252 - val_accuracy: 0.9778\n",
            "Epoch 10/10\n",
            "182/182 [==============================] - 91s 503ms/step - loss: 0.0307 - accuracy: 0.9676 - val_loss: 0.0290 - val_accuracy: 0.9674\n"
          ],
          "name": "stdout"
        }
      ]
    },
    {
      "cell_type": "code",
      "metadata": {
        "id": "1h0BSneFyeMT",
        "colab_type": "code",
        "colab": {
          "base_uri": "https://localhost:8080/",
          "height": 298
        },
        "outputId": "aff33a51-1374-4c4e-917b-824fba3c9ae1"
      },
      "source": [
        "#ploting\n",
        "acc = history.history['accuracy']\n",
        "val_acc = history.history['val_accuracy']\n",
        "loss = history.history['loss']\n",
        "val_loss = history.history['val_loss']\n",
        "epochs = range(len(acc))\n",
        "plt.plot(epochs, acc, 'r', label='Training accuracy')\n",
        "plt.plot(epochs, val_acc, 'b', label='Validation accuracy')\n",
        "plt.title('Training and validation accuracy')\n",
        "plt.legend(loc=0)\n",
        "plt.figure()\n",
        "plt.show()"
      ],
      "execution_count": null,
      "outputs": [
        {
          "output_type": "display_data",
          "data": {
            "image/png": "[encoded data removed]",
            "text/plain": [
              "<Figure size 432x288 with 1 Axes>"
            ]
          },
          "metadata": {
            "tags": [],
            "needs_background": "light"
          }
        },
        {
          "output_type": "display_data",
          "data": {
            "text/plain": [
              "<Figure size 432x288 with 0 Axes>"
            ]
          },
          "metadata": {
            "tags": []
          }
        }
      ]
    },
    {
      "cell_type": "code",
      "metadata": {
        "id": "uiQrRRolVvLI",
        "colab_type": "code",
        "colab": {
          "base_uri": "https://localhost:8080/",
          "height": 34
        },
        "outputId": "20366780-5caa-4aa9-b2b8-f67595f7bed3"
      },
      "source": [
        "#save your model and download it or add drive path \n",
        "model.save('Fresh_fruis.h5')\n",
        "print('Saved')"
      ],
      "execution_count": null,
      "outputs": [
        {
          "output_type": "stream",
          "text": [
            "Saved\n"
          ],
          "name": "stdout"
        }
      ]
    },
    {
      "cell_type": "code",
      "metadata": {
        "id": "hvtMDK9Hh7IL",
        "colab_type": "code",
        "colab": {
          "base_uri": "https://localhost:8080/",
          "height": 34
        },
        "outputId": "6d39b1f8-d260-4e11-dee5-65c6b53669e3"
      },
      "source": [
        "import numpy as np\n",
        "from keras.preprocessing import image\n",
        "np.loadtxt\n",
        "classes = ['Fresh Apple','Fresh Banana','Fresh Orange','Rotten Apple','Rotten Banana','Rotten Orange']#creating the class labels\n",
        "test_image = image.load_img('/content/272782_1100.jpg', target_size = (64, 64))#upload your image\n",
        "test_image = image.img_to_array(test_image)\n",
        "test_image = np.expand_dims(test_image, axis = 0)\n",
        "result = model.predict(test_image)\n",
        "result1=result[0]\n",
        "for i in range(6):\n",
        "  if result1[i] == 1.:\n",
        "    break;\n",
        "prediction = classes[i]\n",
        "print(prediction)    "
      ],
      "execution_count": null,
      "outputs": [
        {
          "output_type": "stream",
          "text": [
            "Fresh Orange\n"
          ],
          "name": "stdout"
        }
      ]
    },
    {
      "cell_type": "markdown",
      "metadata": {
        "id": "HYK9J-9mIQIq",
        "colab_type": "text"
      },
      "source": [
        "##* Suggestion \n",
        "##If you are working on multiple classes(more then 20)  then use this syntax \n",
        "\n",
        " "
      ]
    },
    {
      "cell_type": "code",
      "metadata": {
        "id": "_0BH9aWb5r_q",
        "colab_type": "code",
        "colab": {
          "base_uri": "https://localhost:8080/",
          "height": 190
        },
        "outputId": "d1b39d9b-b55f-45be-834c-32fe12eb0193"
      },
      "source": [
        "#Saving in array #bypass \n",
        "import numpy as np\n",
        "labels=traning_datagen.flow_from_directory('/content/dataset/train')\n",
        "Demo_labels=labels.class_indices\n",
        "print(Demo_labels)\n",
        "print(\"Dict data is converted to array\")\n",
        "#converting dict to array\n",
        "data = list(dict. items())\n",
        "an_array = np. array(data)\n",
        "print(an_array)\n",
        "np.save('Fruits_labels',an_array)\n",
        "#saving in array form "
      ],
      "execution_count": null,
      "outputs": [
        {
          "output_type": "stream",
          "text": [
            "Found 10901 images belonging to 6 classes.\n",
            "{'freshapples': 0, 'freshbanana': 1, 'freshoranges': 2, 'rottenapples': 3, 'rottenbanana': 4, 'rottenoranges': 5}\n",
            "Dict data is converted to array\n",
            "[['freshapples' '0']\n",
            " ['freshbanana' '1']\n",
            " ['freshoranges' '2']\n",
            " ['rottenapples' '3']\n",
            " ['rottenbanana' '4']\n",
            " ['rottenoranges' '5']]\n"
          ],
          "name": "stdout"
        }
      ]
    },
    {
      "cell_type": "code",
      "metadata": {
        "id": "z-87Ap6QAKdO",
        "colab_type": "code",
        "colab": {
          "base_uri": "https://localhost:8080/",
          "height": 34
        },
        "outputId": "1531ab16-934d-403e-c794-646164131fcf"
      },
      "source": [
        "#prediction from array #bypass\n",
        "label_data=np.load('/content/Fruits_labels.npy')\n",
        "test_image = image.load_img('/content/272782_1100.jpg', target_size = (64, 64))\n",
        "test_image = image.img_to_array(test_image)\n",
        "test_image = np.expand_dims(test_image, axis = 0)\n",
        "result = model.predict(test_image)\n",
        "result1=result[0]\n",
        "for i in range(6):\n",
        "  if result1[i] == 1.:\n",
        "    break;\n",
        "prediction = label_data[i][0]\n",
        "print(prediction)  "
      ],
      "execution_count": null,
      "outputs": [
        {
          "output_type": "stream",
          "text": [
            "freshoranges\n"
          ],
          "name": "stdout"
        }
      ]
    },
    {
      "cell_type": "markdown",
      "metadata": {
        "id": "TkUB4x_tMj5U",
        "colab_type": "text"
      },
      "source": [
        "##Regards ![logo_.jpeg](data:image/jpeg;base64,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)"
      ]
    }
  ]
}